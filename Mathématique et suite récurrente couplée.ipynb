{
 "cells": [
  {
   "cell_type": "markdown",
   "id": "f718ab24",
   "metadata": {},
   "source": [
    "<center>\n",
    "    \n",
    "#### PCSI 2013-2014&nbsp;&nbsp;&nbsp;&nbsp;Informatique&nbsp;&nbsp;&nbsp;&nbsp;&nbsp;&nbsp;&nbsp;Lycée Bertran de Born\n",
    "    \n",
    "</center>\n"
   ]
  },
  {
   "cell_type": "markdown",
   "id": "b0e7b0cd",
   "metadata": {},
   "source": [
    "#### Mathématique et suite récurrente couplée\n",
    "\n",
    "Les matrices de cet exercice sont codées dans Python à l'aide du module *numpy*.\n",
    "\n",
    "Soit $a$, $b$ $\\in \\mathbb{N}$. On considère les suites $(U_n)_{n\\in \\mathbb{N}}$ et $(V_n)_{n\\in \\mathbb{N}}$ définies par :\n",
    "\n",
    "$\n",
    "\\left\\{\n",
    "    \\begin{array}{ll}\n",
    "       u_0 = a \\\\\n",
    "       v_0 = a\n",
    "    \\end{array}\n",
    "\\right.\n",
    "$ \n",
    " et pour tout $n \\in \\mathbb{N}$\n",
    " $\n",
    "\\left\\{\n",
    "    \\begin{array}{ll}\n",
    "       u_{n+1} = x{u}_n+(1-x)v_{n} \\\\\n",
    "       v_{n+1} = (1-x)u_{n}+xv_{n} \n",
    "    \\end{array}\n",
    "\\right.\n",
    "$ \n",
    "\n",
    "1. Écrire une fonction matriceA qui prend pour argument un réel x € ]0,1[ et qui\n",
    "renvoie la matrice\n",
    "\n",
    "\n",
    "2. Écrire une fonction u (respectivement v) qui prend pour arguments les entiers n,\n",
    "$a$,$b$, le réel $x \\in ]0,1[$ et renvoie u, (respectivement v,). On utilisera les fonctions\n",
    "matrice et dot\n"
   ]
  },
  {
   "cell_type": "code",
   "execution_count": 30,
   "id": "11936fab",
   "metadata": {},
   "outputs": [
    {
     "name": "stdout",
     "output_type": "stream",
     "text": [
      "[1.6 2.4]\n"
     ]
    }
   ],
   "source": [
    "import numpy as np\n",
    "\n",
    "def matrice_A(x):\n",
    "    \n",
    "    if not (0 <= x <= 1):\n",
    "        raise ValueError('La valeur de x doit être comprise entre 0 et 1.')\n",
    "    \"\"\"\n",
    "    Crée une matrice 2x2 en fonction de x.\n",
    "    \"\"\"\n",
    "    return np.array([[x, 1 - x], [1 - x, x]])\n",
    "\n",
    "def fonc_A(n, x, a, b):\n",
    "    vecteur = np.array([a, b])\n",
    "    result = np.linalg.matrix_power(matrice_x(x), n).dot(vecteur)\n",
    "    return result\n",
    "\n",
    "resultat = fonc_A(1, 0.3, 3, 1)\n",
    "print(resultat)\n"
   ]
  }
 ],
 "metadata": {
  "celltoolbar": "Format de la Cellule Texte Brut",
  "kernelspec": {
   "display_name": "Python 3 (ipykernel)",
   "language": "python",
   "name": "python3"
  },
  "language_info": {
   "codemirror_mode": {
    "name": "ipython",
    "version": 3
   },
   "file_extension": ".py",
   "mimetype": "text/x-python",
   "name": "python",
   "nbconvert_exporter": "python",
   "pygments_lexer": "ipython3",
   "version": "3.11.4"
  }
 },
 "nbformat": 4,
 "nbformat_minor": 5
}
